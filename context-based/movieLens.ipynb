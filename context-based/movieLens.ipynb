{
 "cells": [
  {
   "attachments": {},
   "cell_type": "markdown",
   "metadata": {},
   "source": [
    "Data Preparation stage"
   ]
  },
  {
   "cell_type": "code",
   "execution_count": 29,
   "metadata": {},
   "outputs": [],
   "source": [
    "import pandas as pd\n",
    "import numpy as np \n",
    "import matplotlib.pyplot as plt\n",
    "import os \n",
    "\n",
    "# you should change path according to your local computer \n",
    "PATH = '/home/doolee13/movieLens/ml-1m'\n",
    "\n",
    "ratings = pd.read_csv(os.path.join(PATH, 'ratings.dat'), delimiter='::', header=None, \n",
    "                      names = ['user_id', 'movie_id', 'rating', 'timestamp'], \n",
    "                      usecols= ['user_id', 'movie_id', 'rating'], engine='python')\n",
    "\n",
    "users = pd.read_csv(os.path.join(PATH, 'users.dat'), delimiter='::', header=None, \n",
    "                    names = ['user_id', 'gender', 'zipcode', 'age_desc', 'occ_desc'],\n",
    "                    usecols=['user_id', 'gender', 'zipcode', 'age_desc', 'occ_desc'], engine='python')\n",
    "\n",
    "movies = pd.read_csv(os.path.join(PATH, 'movies.dat'), delimiter='::', header=None, \n",
    "                     encoding='latin-1', \n",
    "                     names = ['movie_id', 'title', 'genres'], \n",
    "                     usecols=['movie_id', 'title', 'genres'], engine='python')\n"
   ]
  },
  {
   "attachments": {},
   "cell_type": "markdown",
   "metadata": {},
   "source": [
    "Below is a quick description for rating info"
   ]
  },
  {
   "cell_type": "code",
   "execution_count": 18,
   "metadata": {},
   "outputs": [
    {
     "data": {
      "text/plain": [
       "count    1.000209e+06\n",
       "mean     3.581564e+00\n",
       "std      1.117102e+00\n",
       "min      1.000000e+00\n",
       "25%      3.000000e+00\n",
       "50%      4.000000e+00\n",
       "75%      4.000000e+00\n",
       "max      5.000000e+00\n",
       "Name: rating, dtype: float64"
      ]
     },
     "execution_count": 18,
     "metadata": {},
     "output_type": "execute_result"
    }
   ],
   "source": [
    "ratings['rating'].describe()"
   ]
  },
  {
   "cell_type": "code",
   "execution_count": 25,
   "metadata": {},
   "outputs": [
    {
     "name": "stdout",
     "output_type": "stream",
     "text": [
      "[['Drama', 1603], ['Comedy', 1200], ['Action', 503], ['Thriller', 492], ['Romance', 471]]\n"
     ]
    }
   ],
   "source": [
    "from collections import defaultdict\n",
    "genres = set()\n",
    "keyword_dict = defaultdict(int)\n",
    "for gen in movies['genres'].str.split('|'):\n",
    "    genres.union(set(gen))\n",
    "    for g in gen:\n",
    "        keyword_dict[g] += 1\n",
    "\n",
    "keyword_list = []\n",
    "for k, v in keyword_dict.items():\n",
    "    keyword_list.append([k, v])\n",
    "keyword_list.sort(key = lambda x: x[1], reverse= True)\n",
    "\n",
    "# list top five genres in movieLens-1m dataset\n",
    "print(keyword_list[:5])"
   ]
  },
  {
   "cell_type": "code",
   "execution_count": 30,
   "metadata": {},
   "outputs": [
    {
     "name": "stdout",
     "output_type": "stream",
     "text": [
      "0        [Animation, Children's, Comedy]\n",
      "1       [Adventure, Children's, Fantasy]\n",
      "2                      [Comedy, Romance]\n",
      "3                        [Comedy, Drama]\n",
      "4                               [Comedy]\n",
      "                      ...               \n",
      "3878                            [Comedy]\n",
      "3879                             [Drama]\n",
      "3880                             [Drama]\n",
      "3881                             [Drama]\n",
      "3882                   [Drama, Thriller]\n",
      "Name: genres, Length: 3883, dtype: object\n"
     ]
    }
   ],
   "source": [
    "movies['genres'] = movies['genres'].str.split('|')\n",
    "print(movies['genres'])"
   ]
  },
  {
   "cell_type": "code",
   "execution_count": 31,
   "metadata": {},
   "outputs": [
    {
     "name": "stdout",
     "output_type": "stream",
     "text": [
      "0        ['Animation', \"Children's\", 'Comedy']\n",
      "1       ['Adventure', \"Children's\", 'Fantasy']\n",
      "2                        ['Comedy', 'Romance']\n",
      "3                          ['Comedy', 'Drama']\n",
      "4                                   ['Comedy']\n",
      "                         ...                  \n",
      "3878                                ['Comedy']\n",
      "3879                                 ['Drama']\n",
      "3880                                 ['Drama']\n",
      "3881                                 ['Drama']\n",
      "3882                     ['Drama', 'Thriller']\n",
      "Name: genres, Length: 3883, dtype: object\n"
     ]
    }
   ],
   "source": [
    "movies['genres'] = movies['genres'].fillna(\"\").astype('str')\n",
    "print(movies['genres'])"
   ]
  },
  {
   "attachments": {},
   "cell_type": "markdown",
   "metadata": {},
   "source": [
    "we use TF-IDF for category to vector mapping and cosine similarity for vector similarity \n",
    "\n",
    "\n",
    "for detailed info about TF-IDF and sklearn, https://m.blog.naver.com/myincizor/221644893910"
   ]
  },
  {
   "cell_type": "code",
   "execution_count": 35,
   "metadata": {},
   "outputs": [],
   "source": [
    "from sklearn.feature_extraction.text import TfidfVectorizer\n",
    "tf = TfidfVectorizer(analyzer='word', ngram_range=(1,2), min_df=0, stop_words='english')\n",
    "tfidf_matrix = tf.fit_transform(movies['genres'])"
   ]
  },
  {
   "cell_type": "code",
   "execution_count": 36,
   "metadata": {},
   "outputs": [],
   "source": [
    "# calculate cosine similarity \n",
    "from sklearn.metrics.pairwise import linear_kernel\n",
    "cosine_sim = linear_kernel(tfidf_matrix, tfidf_matrix)"
   ]
  },
  {
   "attachments": {},
   "cell_type": "markdown",
   "metadata": {},
   "source": [
    "Now assign 15 most similar movies according to cosine similarity score "
   ]
  },
  {
   "cell_type": "code",
   "execution_count": 46,
   "metadata": {},
   "outputs": [
    {
     "data": {
      "text/plain": [
       "0                                        Toy Story (1995)\n",
       "1                                          Jumanji (1995)\n",
       "2                                 Grumpier Old Men (1995)\n",
       "3                                Waiting to Exhale (1995)\n",
       "4                      Father of the Bride Part II (1995)\n",
       "                              ...                        \n",
       "3848                      Hellbound: Hellraiser II (1988)\n",
       "3849                 Hellraiser III: Hell on Earth (1992)\n",
       "3850    Faraway, So Close (In Weiter Ferne, So Nah!) (...\n",
       "3851                                   Beach Party (1963)\n",
       "3852                                  Bikini Beach (1964)\n",
       "Name: title, Length: 3853, dtype: object"
      ]
     },
     "execution_count": 46,
     "metadata": {},
     "output_type": "execute_result"
    }
   ],
   "source": [
    "# create (movie_title, index) data for index reference \n",
    "titles = movies['title']\n",
    "inds = pd.Series(data=movies.index, index=movies['title'])\n",
    "\n",
    "def get_rec(title):\n",
    "    idx = inds[title]\n",
    "    scores = list(enumerate(cosine_sim[idx]))\n",
    "    scores.sort(key = lambda x:x[1], reverse=True)\n",
    "    scores = scores[1:16] # idx 0 is itself \n",
    "    rec_ids = [i[0] for i in scores]\n",
    "    return titles.iloc[rec_ids]\n",
    "\n",
    "movies['title'].head(-30)"
   ]
  },
  {
   "cell_type": "code",
   "execution_count": 48,
   "metadata": {},
   "outputs": [
    {
     "data": {
      "text/plain": [
       "1050            Aladdin and the King of Thieves (1996)\n",
       "2072                          American Tail, An (1986)\n",
       "2073        American Tail: Fievel Goes West, An (1991)\n",
       "2285                         Rugrats Movie, The (1998)\n",
       "2286                              Bug's Life, A (1998)\n",
       "3045                                Toy Story 2 (1999)\n",
       "3542                             Saludos Amigos (1943)\n",
       "3682                                Chicken Run (2000)\n",
       "3685    Adventures of Rocky and Bullwinkle, The (2000)\n",
       "236                              Goofy Movie, A (1995)\n",
       "12                                        Balto (1995)\n",
       "241                            Gumby: The Movie (1995)\n",
       "310                          Swan Princess, The (1994)\n",
       "592                                   Pinocchio (1940)\n",
       "612                             Aristocats, The (1970)\n",
       "Name: title, dtype: object"
      ]
     },
     "execution_count": 48,
     "metadata": {},
     "output_type": "execute_result"
    }
   ],
   "source": [
    "get_rec('Toy Story (1995)')"
   ]
  },
  {
   "cell_type": "code",
   "execution_count": 47,
   "metadata": {},
   "outputs": [
    {
     "data": {
      "text/plain": [
       "175                              Lord of Illusions (1995)\n",
       "186                                  Prophecy, The (1995)\n",
       "218                                   Castle Freak (1995)\n",
       "324     Tales From the Crypt Presents: Demon Knight (1...\n",
       "362                     Wes Craven's New Nightmare (1994)\n",
       "393                                      Fear, The (1995)\n",
       "561                                         Cronos (1992)\n",
       "602                Candyman: Farewell to the Flesh (1995)\n",
       "765     Spirits of the Dead (Tre Passi nel Delirio) (1...\n",
       "830                            Eyes Without a Face (1959)\n",
       "831     Tales from the Crypt Presents: Bordello of Blo...\n",
       "868                                     Relic, The (1997)\n",
       "1089        Children of the Corn IV: The Gathering (1996)\n",
       "1112                                      Fog, The (1980)\n",
       "1114                                  Howling, The (1980)\n",
       "Name: title, dtype: object"
      ]
     },
     "execution_count": 47,
     "metadata": {},
     "output_type": "execute_result"
    }
   ],
   "source": [
    "get_rec('Hellraiser III: Hell on Earth (1992)')"
   ]
  }
 ],
 "metadata": {
  "kernelspec": {
   "display_name": "finalmlp",
   "language": "python",
   "name": "python3"
  },
  "language_info": {
   "codemirror_mode": {
    "name": "ipython",
    "version": 3
   },
   "file_extension": ".py",
   "mimetype": "text/x-python",
   "name": "python",
   "nbconvert_exporter": "python",
   "pygments_lexer": "ipython3",
   "version": "3.10.11"
  },
  "orig_nbformat": 4
 },
 "nbformat": 4,
 "nbformat_minor": 2
}
